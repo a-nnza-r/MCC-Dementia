{
  "cells": [
    {
      "cell_type": "markdown",
      "metadata": {
        "id": "jgkt_hmTYhU3"
      },
      "source": [
        "# CRNN Notebook"
      ]
    },
    {
      "cell_type": "code",
      "execution_count": null,
      "metadata": {
        "id": "U_3zStmVYhU3",
        "outputId": "f8832172-0579-4659-fdc3-4f48e40ea534"
      },
      "outputs": [
        {
          "name": "stdout",
          "output_type": "stream",
          "text": [
            "Requirement already satisfied: torcheval in /opt/conda/lib/python3.11/site-packages (0.0.7)\n",
            "Requirement already satisfied: typing-extensions in /opt/conda/lib/python3.11/site-packages (from torcheval) (4.8.0)\n"
          ]
        }
      ],
      "source": [
        "!pip install torcheval"
      ]
    },
    {
      "cell_type": "code",
      "execution_count": null,
      "metadata": {
        "id": "-G4E4TkOwgxK"
      },
      "outputs": [],
      "source": [
        "import torch\n",
        "import torch.nn as nn\n",
        "import torch.nn.functional as F\n",
        "import torch.optim as optim\n",
        "from torch.utils.data import Dataset ,DataLoader, WeightedRandomSampler\n",
        "from torch.utils.data.dataset import Subset\n",
        "from torch.utils.data import random_split\n",
        "from torchvision import transforms\n",
        "from PIL import Image\n",
        "import os\n",
        "import numpy as np\n",
        "import json\n",
        "from torcheval.metrics import MulticlassF1Score\n",
        "import matplotlib.pyplot as plt"
      ]
    },
    {
      "cell_type": "markdown",
      "metadata": {
        "id": "mRQ8AFeWYhU4"
      },
      "source": [
        "1. use f1 score\n",
        "2. dont use weighted average for test and validation\n",
        "3. dont transform validation and test set\n",
        "4. check for overlap of images"
      ]
    },
    {
      "cell_type": "markdown",
      "metadata": {
        "id": "CLkblsJkyG-f"
      },
      "source": [
        "# Data Augmentation and DataLoader Preparation\n",
        "\n",
        "In this section, we define the transformations for data augmentation to increase the diversity of our dataset, which can lead to better model generalization. Following that, we instantiate our Alzheimer's dataset class with these transformations and then split the dataset into training, validation, and test sets. To tackle the class imbalance issue, we compute class weights and use these to create a weighted sampler for the training data. Finally, we prepare DataLoader objects for each dataset split to facilitate efficient data loading during the model training and evaluation phases.\n",
        "\n",
        "To address class imbalance, we implement a weight rebalancing strategy that ensures less frequent classes are given more importance during training. This is done through the following steps:\n",
        "\n",
        "1. **Calculate Class Sample Counts**: We compute the number of samples present for each class in the dataset. This count helps identify the imbalance and determine the weight each class should receive.\n",
        "\n",
        "2. **Compute Class Weights**: The weight for each class is calculated as the inverse of its sample count. This approach assigns higher weights to less frequent classes, thus increasing their influence during the model training process.\n",
        "\n",
        "3. **Assign Sample Weights**: We then assign a weight to each sample in the dataset corresponding to its class weight. This results in a weighted distribution where each sample's importance is reflected by its weight.\n",
        "\n",
        "4. **Weighted Random Sampler**: In the training DataLoader, we use a WeightedRandomSampler with these sample weights. This sampler ensures that batches of data are sampled in a manner that reflects the assigned weights, giving more representation to underrepresented classes and mitigating the effects of class imbalance.\n",
        "\n",
        "By rebalancing the weights, we ensure that the model does not overlook the minority classes and learns to generalize well across all classes, leading to a more balanced and fair prediction outcome.\n"
      ]
    },
    {
      "cell_type": "markdown",
      "metadata": {
        "id": "C6rW3MSzYhU4"
      },
      "source": [
        "# Series Dataset"
      ]
    },
    {
      "cell_type": "code",
      "execution_count": null,
      "metadata": {
        "id": "bc1zB_MAYhU4"
      },
      "outputs": [],
      "source": [
        "class AlzheimerSeriesDataset(Dataset):\n",
        "    \"\"\"\n",
        "    A custom Dataset class for handling series of MRI images, where each series represents a single patient's scan.\n",
        "\n",
        "    Attributes:\n",
        "        root_dir (str): Directory containing image categories.\n",
        "        transform (callable, optional): Transform to be applied to each image in a series.\n",
        "        series_paths (list): List of paths for each image in the series.\n",
        "        labels (list): List of labels corresponding to each series.\n",
        "    \"\"\"\n",
        "\n",
        "    def __init__(self, root_dir, transform=None):\n",
        "        \"\"\"\n",
        "        Initializes the dataset object, storing paths for series of images and their labels.\n",
        "\n",
        "        Args:\n",
        "            root_dir (str): Directory containing image categories.\n",
        "            transform (callable, optional): Transform to apply to each image in the series.\n",
        "        \"\"\"\n",
        "        self.root_dir = root_dir\n",
        "        self.transform = transform\n",
        "        self.series_paths = []\n",
        "        self.labels = []\n",
        "\n",
        "        categories = ['Mild Dementia', 'Moderate Dementia', 'Non Demented', 'Very mild Dementia']\n",
        "        label_mapping = {category: idx for idx, category in enumerate(categories)}\n",
        "\n",
        "        # Organize images into series based on patient ID\n",
        "        for category in categories:\n",
        "            category_path = os.path.join(root_dir, category)\n",
        "            patient_series = {}  # Dictionary to hold image paths for each patient\n",
        "\n",
        "            # Aggregate images into series based on patient ID\n",
        "            for img_name in os.listdir(category_path):\n",
        "                patient_id = '_'.join(img_name.split('_')[:-1])\n",
        "                img_path = os.path.join(category_path, img_name)\n",
        "\n",
        "                if patient_id not in patient_series:\n",
        "                    patient_series[patient_id] = []\n",
        "                patient_series[patient_id].append(img_path)\n",
        "\n",
        "            # Store only complete series with the correct number of images\n",
        "            for patient_id, img_paths in patient_series.items():\n",
        "                if len(img_paths) == 61:  # Assuming each series should have 61 images\n",
        "                    self.series_paths.append(sorted(img_paths))  # Ensure images are in order\n",
        "                    self.labels.append(label_mapping[category])\n",
        "\n",
        "    def __len__(self):\n",
        "        \"\"\"\n",
        "        Returns the total number of series in the dataset.\n",
        "        \"\"\"\n",
        "        return len(self.series_paths)\n",
        "\n",
        "    def __getitem__(self, idx):\n",
        "        \"\"\"\n",
        "        Retrieves a series of images and its label at the specified index.\n",
        "\n",
        "        Args:\n",
        "            idx (int): Index of the data series to retrieve.\n",
        "\n",
        "        Returns:\n",
        "            series_stack (torch.Tensor): The stack of images corresponding to the series.\n",
        "            label (int): The label of the series.\n",
        "        \"\"\"\n",
        "        series_paths = self.series_paths[idx]\n",
        "        series_images = [Image.open(img_path).convert('L') for img_path in series_paths]  # Convert images to grayscale\n",
        "\n",
        "        # Apply transformation to each image in the series if a transform is specified\n",
        "        if self.transform:\n",
        "            series_images = [self.transform(image) for image in series_images]\n",
        "\n",
        "        # Stack images to form a tensor representing the series\n",
        "        series_stack = torch.stack(series_images, dim=0)\n",
        "        label = self.labels[idx]\n",
        "\n",
        "        return series_stack, label"
      ]
    },
    {
      "cell_type": "code",
      "execution_count": null,
      "metadata": {
        "id": "QedFvMgxYhU5"
      },
      "outputs": [],
      "source": [
        "# Initialize the dataset without any transformations\n",
        "dataset = AlzheimerSeriesDataset(root_dir='../Data')\n",
        "\n",
        "# Define the sizes for train, validation, and test sets\n",
        "total_size = len(dataset)\n",
        "train_size = int(0.7 * total_size)\n",
        "val_size = int(0.15 * total_size)\n",
        "test_size = total_size - train_size - val_size\n",
        "\n",
        "# Split the dataset into train, validation, and test sets\n",
        "train_dataset, val_dataset, test_dataset = random_split(dataset, [train_size, val_size, test_size])\n",
        "\n",
        "# Define transformations for data augmentation for the training set\n",
        "train_transform = transforms.Compose([\n",
        "    transforms.RandomHorizontalFlip(),\n",
        "    transforms.RandomRotation(10),\n",
        "    transforms.ToTensor(),\n",
        "    transforms.Normalize(mean=[0.5], std=[0.5])\n",
        "])\n",
        "\n",
        "val_test_transform = transforms.Compose([\n",
        "    transforms.ToTensor(),\n",
        "    transforms.Normalize(mean=[0.5], std=[0.5])\n",
        "])\n",
        "\n",
        "# Apply transformations to the training dataset\n",
        "train_dataset = Subset(dataset, train_dataset.indices)\n",
        "train_dataset.dataset.transform = train_transform\n",
        "\n",
        "val_dataset = Subset(dataset, val_dataset.indices)\n",
        "val_dataset.dataset.transform = val_test_transform\n",
        "\n",
        "test_dataset = Subset(dataset, test_dataset.indices)\n",
        "test_dataset.dataset.transform = val_test_transform\n",
        "\n",
        "# Calculate class weights for balancing\n",
        "class_sample_count = np.array([len(np.where(np.array(dataset.labels) == t)[0]) for t in np.unique(dataset.labels)])\n",
        "weight = 1. / class_sample_count\n",
        "samples_weight = np.array([weight[t] for t in dataset.labels])\n",
        "train_weights = np.array([samples_weight[idx] for idx in train_dataset.indices])\n",
        "\n",
        "# Create the sampler for the training set\n",
        "train_sampler = WeightedRandomSampler(train_weights, len(train_weights))\n",
        "\n",
        "# Number of workers for data loading\n",
        "num_workers = 1\n",
        "\n",
        "# Create the DataLoaders\n",
        "train_loader = DataLoader(\n",
        "    train_dataset,\n",
        "    batch_size=2,\n",
        "    sampler=train_sampler,\n",
        "    num_workers=num_workers,\n",
        "    pin_memory=True\n",
        ")\n",
        "\n",
        "val_loader = DataLoader(\n",
        "    val_dataset,\n",
        "    batch_size=2,\n",
        "    shuffle=False,\n",
        "    num_workers=num_workers,\n",
        "    pin_memory=True\n",
        ")\n",
        "\n",
        "test_loader = DataLoader(\n",
        "    test_dataset,\n",
        "    batch_size=2,\n",
        "    shuffle=False,\n",
        "    num_workers=num_workers,\n",
        "    pin_memory=True\n",
        ")"
      ]
    },
    {
      "cell_type": "markdown",
      "metadata": {
        "id": "5FCfuc7MxZxR"
      },
      "source": [
        "# Defining a Common Training Function for All Models\n",
        "\n",
        "In this section, we define a universal training function that can be applied to all models since they share common inputs and outputs. This function will handle the model training and validation processes, including features like saving model checkpoints, tracking training and validation metrics, and optionally performing parameter search to find the optimal model configuration. We use a common training function streamlines the training process across different models, ensuring consistency and reducing code redundancy."
      ]
    },
    {
      "cell_type": "code",
      "execution_count": null,
      "metadata": {
        "id": "YoQeoaDGYhU5"
      },
      "outputs": [],
      "source": [
        "def train_model(model, train_loader, val_loader, device, model_checkpoint_path, model_name, epochs=5, load_pretrained=False, last_epoch=-1):\n",
        "    model.to(device)\n",
        "    criterion = nn.CrossEntropyLoss()\n",
        "    optimizer = torch.optim.Adam(model.parameters())\n",
        "\n",
        "    best_val_loss = float('inf')\n",
        "    best_val_accuracy = 0\n",
        "    best_epoch = 0\n",
        "\n",
        "    train_loss_history = []\n",
        "    train_accuracy_history = []\n",
        "    train_f1score_history = []\n",
        "    val_loss_history = []\n",
        "    val_accuracy_history = []\n",
        "    val_f1score_history = []\n",
        "\n",
        "    NUM_CLASSES = 4  # replace with your actual number of classes\n",
        "\n",
        "    # Initialize torcheval F1 score computation\n",
        "    f1_score_train = MulticlassF1Score(num_classes=NUM_CLASSES)\n",
        "    f1_score_val = MulticlassF1Score(num_classes=NUM_CLASSES)\n",
        "\n",
        "    # Create model checkpoint directory if it doesn't exist\n",
        "    model_save_dir = os.path.join(model_checkpoint_path, model_name)\n",
        "    os.makedirs(model_save_dir, exist_ok=True)\n",
        "\n",
        "    if load_pretrained and last_epoch >= 0:\n",
        "        model_save_path = os.path.join(model_save_dir, f'epoch_{last_epoch}.pth')\n",
        "        if os.path.isfile(model_save_path):\n",
        "            print(f\"Loading pretrained model from {model_save_path}\")\n",
        "            model.load_state_dict(torch.load(model_save_path, map_location=device))\n",
        "            print(\"Model loaded successfully.\")\n",
        "        else:\n",
        "            print(f\"No pretrained model found at {model_save_path}, starting training from scratch.\")\n",
        "\n",
        "    try:\n",
        "        for epoch in range(last_epoch + 1, last_epoch + 1 + epochs):\n",
        "            model.train()\n",
        "            train_loss, train_correct, train_total = 0, 0, 0\n",
        "\n",
        "            f1_score_train.reset()\n",
        "            f1_score_val.reset()\n",
        "\n",
        "            for images, labels in train_loader:\n",
        "                images, labels = images.to(device), labels.to(device)\n",
        "                optimizer.zero_grad()\n",
        "                outputs = model(images)\n",
        "                loss = criterion(outputs, labels)\n",
        "                loss.backward()\n",
        "                optimizer.step()\n",
        "\n",
        "                train_loss += loss.item()\n",
        "                _, predicted = torch.max(outputs, 1)\n",
        "                train_total += labels.size(0)\n",
        "                train_correct += (predicted == labels).sum().item()\n",
        "\n",
        "                # Update F1 score\n",
        "                f1_score_train.update(predicted, labels)\n",
        "\n",
        "            train_loss /= len(train_loader)\n",
        "            train_accuracy = train_correct / train_total\n",
        "            train_f1score = f1_score_train.compute()\n",
        "\n",
        "            train_loss_history.append(train_loss)\n",
        "            train_accuracy_history.append(train_accuracy)\n",
        "            train_f1score_history.append(train_f1score)\n",
        "\n",
        "            model.eval()\n",
        "            val_loss, val_correct, val_total = 0, 0, 0\n",
        "\n",
        "            with torch.no_grad():\n",
        "                for images, labels in val_loader:\n",
        "                    images, labels = images.to(device), labels.to(device)\n",
        "                    outputs = model(images)\n",
        "                    loss = criterion(outputs, labels)\n",
        "                    val_loss += loss.item()\n",
        "                    _, predicted = torch.max(outputs, 1)\n",
        "                    val_total += labels.size(0)\n",
        "                    val_correct += (predicted == labels).sum().item()\n",
        "\n",
        "                    # Update F1 score\n",
        "                    f1_score_val.update(predicted, labels)\n",
        "\n",
        "            val_loss /= len(val_loader)\n",
        "            val_accuracy = val_correct / val_total\n",
        "            val_f1score = f1_score_val.compute()\n",
        "\n",
        "            val_loss_history.append(val_loss)\n",
        "            val_accuracy_history.append(val_accuracy)\n",
        "            val_f1score_history.append(val_f1score)\n",
        "\n",
        "            print(f'Epoch {epoch+1}: Train Loss: {train_loss:.4f}, Accuracy: {train_accuracy:.4f}, F1: {train_f1score:.4f}, Val Loss: {val_loss:.4f}, Accuracy: {val_accuracy:.4f}, F1: {val_f1score:.4f}')\n",
        "\n",
        "            if val_loss < best_val_loss:\n",
        "                best_val_loss = val_loss\n",
        "                best_val_accuracy = val_accuracy\n",
        "                best_epoch = epoch\n",
        "                model_save_path = os.path.join(model_save_dir, f'epoch_{epoch}.pth')\n",
        "                torch.save(model.state_dict(), model_save_path)\n",
        "                print(f'Model saved to {model_save_path}')\n",
        "\n",
        "            torch.cuda.empty_cache()\n",
        "\n",
        "    except KeyboardInterrupt:\n",
        "        print(\"Training interrupted, saving current state...\")\n",
        "        model_save_path = os.path.join(model_save_dir, 'interrupted.pth')\n",
        "        torch.save(model.state_dict(), model_save_path)\n",
        "        print(f\"Model and training state saved to {model_save_path}\")\n",
        "\n",
        "    return {\n",
        "        'model_name': model_name,\n",
        "        'best_epoch': best_epoch,\n",
        "        'best_val_accuracy': best_val_accuracy,\n",
        "        'epochs_trained': epoch + 1,\n",
        "        'train_loss_history': train_loss_history,\n",
        "        'train_accuracy_history': train_accuracy_history,\n",
        "        'train_f1score_history': train_f1score_history,\n",
        "        'val_loss_history': val_loss_history,\n",
        "        'val_accuracy_history': val_accuracy_history,\n",
        "        'val_f1score_history': val_f1score_history\n",
        "    }\n"
      ]
    },
    {
      "cell_type": "markdown",
      "metadata": {
        "id": "DB1sCEOsYhU5"
      },
      "source": [
        "# Model Architecture\n",
        "## Convolutional Layers\n",
        "1. The first part of the network consists of convolutional layers. These layers are responsible for extracting spatial features from the input images.\n",
        "2. The conv1, conv2, conv3 layers, with corresponding batch normalization (bn1, bn2, bn3) and dropout layers (dropout1, dropout2, dropout3), are used to progressively reduce the spatial dimensions of the input while increasing the depth (number of channels), which helps in learning more complex features.\n",
        "3. The pool1, pool2, pool3 are max-pooling layers that reduce the spatial size of the representation, thereby reducing the number of parameters and computation in the network.\n",
        "\n",
        "## LSTM Layer\n",
        "After the convolutional layers, the spatial features are reshaped and fed into an LSTM layer, turning spatial features obtained in convolutional layers into a 256-dimensional representation.\n",
        "The LSTM (rnn1) is designed to handle sequential data and can maintain long-term dependencies in sequences. It’s particularly useful in this case for 2 main reasons:\n",
        "1. Ability to recognise appearance across sequence: CRNNs are good at recognizing patterns that vary in their appearance across a sequence. This is particularly useful in the case of MRI scans of the brain as each patient's brain had 61 scans corresponding to the axis of their brains, allowing the RNN to learn how the appearance of brain scans vary across each cross-section.\n",
        "2. Learn long term relationship between different parts of image: RNN allows the model to learn the relationship between different parts of the image, and preserve this knowledge accross the training. This could have contributed in the model learning common spatial features present across images which help to classify images better.\n",
        "\n",
        "## Linear Layer (Dense Layer)\n",
        "The last part of the model is a linear layer, dense, that maps the LSTM outputs to the 4 different classes.\n",
        "\n",
        "### Forward Pass\n",
        "In the forward method, the input data passes through the convolutional layers first. Here, features are extracted and downsampled.\n",
        "Then, the data is reshaped and permuted to match the input requirements of an LSTM. Specifically, it's transformed into a format of [sequence_length, batch_size, features].\n",
        "The LSTM processes this sequential data, and the output from the last sequence step is passed through the dense layer to produce the final output."
      ]
    },
    {
      "cell_type": "code",
      "execution_count": null,
      "metadata": {
        "id": "ORmTAMPFYhU5"
      },
      "outputs": [],
      "source": [
        "class CRNN(nn.Module):\n",
        "    def __init__(self, num_classes=4, hidden_dim=64, lstm_layers=1):\n",
        "        super(CRNN, self).__init__()\n",
        "        self.hidden_dim = hidden_dim\n",
        "\n",
        "        # Define convolutional layers with 61 as initial channel size\n",
        "        self.conv1 = nn.Conv2d(61, 61, kernel_size=3, padding=1)\n",
        "        self.bn1 = nn.BatchNorm2d(61)\n",
        "        self.pool1 = nn.MaxPool2d(kernel_size=2, stride=2)\n",
        "\n",
        "        self.conv2 = nn.Conv2d(61, 61, kernel_size=3, padding=1)\n",
        "        self.bn2 = nn.BatchNorm2d(61)\n",
        "        self.pool2 = nn.MaxPool2d(kernel_size=2, stride=2)\n",
        "\n",
        "        self.conv3 = nn.Conv2d(61, 61, kernel_size=3, padding=1)\n",
        "        self.bn3 = nn.BatchNorm2d(61)\n",
        "        self.pool3 = nn.MaxPool2d(kernel_size=2, stride=2)\n",
        "\n",
        "        self.fc1 = nn.Linear(1922, hidden_dim)\n",
        "        self.fc2 = nn.Linear(hidden_dim, num_classes)\n",
        "\n",
        "        self.lstm = nn.LSTM(input_size=hidden_dim, hidden_size=hidden_dim, num_layers=lstm_layers, batch_first=True)\n",
        "\n",
        "    def forward(self, x):\n",
        "        # Input shape: (batch_size, series_length, channels, height, width)\n",
        "        batch_size, series_length, channels, height, width = x.size()\n",
        "\n",
        "        # Merge batch and series length dimensions and treat series as channels\n",
        "        x = x.view(batch_size, series_length * channels, height, width)\n",
        "\n",
        "        # Convolutional blocks with modified skip connections to avoid in-place operations\n",
        "        identity = x\n",
        "        x = F.relu(self.bn1(self.conv1(x)))\n",
        "        x = x + identity  # Skip connection, avoid in-place operation\n",
        "        x = self.pool1(x)\n",
        "\n",
        "        identity = x\n",
        "        x = F.relu(self.bn2(self.conv2(x)))\n",
        "        x = x + identity  # Skip connection, avoid in-place operation\n",
        "        x = self.pool2(x)\n",
        "\n",
        "        identity = x\n",
        "        x = F.relu(self.bn3(self.conv3(x)))\n",
        "        x = x + identity  # Skip connection, avoid in-place operation\n",
        "        x = self.pool3(x)\n",
        "\n",
        "\n",
        "        # Flatten and pass through linear layer\n",
        "        x = x.view(batch_size, series_length * channels, -1)  # Flatten height and width only\n",
        "        x = self.fc1(x)\n",
        "\n",
        "        # LSTM layer\n",
        "        lstm_out, (hidden, _) = self.lstm(x)\n",
        "        x = lstm_out[:, -1, :]  # Take last time step's output\n",
        "\n",
        "        # Classifier\n",
        "        x = self.fc2(x)\n",
        "        return x"
      ]
    },
    {
      "cell_type": "code",
      "execution_count": null,
      "metadata": {
        "id": "TMdOJIX_YhU5",
        "outputId": "8639adfa-a966-4070-cdbc-5b0e1a44b7df"
      },
      "outputs": [
        {
          "name": "stdout",
          "output_type": "stream",
          "text": [
            "CRNN(\n",
            "  (conv1): Conv2d(61, 61, kernel_size=(3, 3), stride=(1, 1), padding=(1, 1))\n",
            "  (bn1): BatchNorm2d(61, eps=1e-05, momentum=0.1, affine=True, track_running_stats=True)\n",
            "  (pool1): MaxPool2d(kernel_size=2, stride=2, padding=0, dilation=1, ceil_mode=False)\n",
            "  (conv2): Conv2d(61, 61, kernel_size=(3, 3), stride=(1, 1), padding=(1, 1))\n",
            "  (bn2): BatchNorm2d(61, eps=1e-05, momentum=0.1, affine=True, track_running_stats=True)\n",
            "  (pool2): MaxPool2d(kernel_size=2, stride=2, padding=0, dilation=1, ceil_mode=False)\n",
            "  (conv3): Conv2d(61, 61, kernel_size=(3, 3), stride=(1, 1), padding=(1, 1))\n",
            "  (bn3): BatchNorm2d(61, eps=1e-05, momentum=0.1, affine=True, track_running_stats=True)\n",
            "  (pool3): MaxPool2d(kernel_size=2, stride=2, padding=0, dilation=1, ceil_mode=False)\n",
            "  (fc1): Linear(in_features=1922, out_features=64, bias=True)\n",
            "  (fc2): Linear(in_features=64, out_features=4, bias=True)\n",
            "  (lstm): LSTM(64, 64, batch_first=True)\n",
            ")\n"
          ]
        }
      ],
      "source": [
        "crnn = CRNN()\n",
        "print(crnn)"
      ]
    },
    {
      "cell_type": "markdown",
      "metadata": {
        "id": "47wn8npBYhU5"
      },
      "source": [
        "# Training CRNN Model"
      ]
    },
    {
      "cell_type": "code",
      "execution_count": null,
      "metadata": {
        "id": "vL6ReBCcYhU5",
        "outputId": "7144e94b-7a36-41e4-c0df-9b12fce2a54b"
      },
      "outputs": [
        {
          "name": "stdout",
          "output_type": "stream",
          "text": [
            "Epoch 1: Train Loss: 1.0191, Accuracy: 0.5106, F1: 0.5106, Val Loss: 1.5037, Accuracy: 0.0991, F1: 0.0991\n",
            "Model saved to ModelCheckpointsDebug/CRNNModel/epoch_0.pth\n",
            "Epoch 2: Train Loss: 0.7022, Accuracy: 0.6579, F1: 0.6579, Val Loss: 0.7887, Accuracy: 0.7453, F1: 0.7453\n",
            "Model saved to ModelCheckpointsDebug/CRNNModel/epoch_1.pth\n",
            "Epoch 3: Train Loss: 0.4787, Accuracy: 0.7518, F1: 0.7518, Val Loss: 1.0424, Accuracy: 0.5000, F1: 0.5000\n",
            "Epoch 4: Train Loss: 0.3737, Accuracy: 0.8153, F1: 0.8153, Val Loss: 0.6503, Accuracy: 0.7264, F1: 0.7264\n",
            "Model saved to ModelCheckpointsDebug/CRNNModel/epoch_3.pth\n",
            "Epoch 5: Train Loss: 0.3521, Accuracy: 0.8254, F1: 0.8254, Val Loss: 0.8093, Accuracy: 0.6274, F1: 0.6274\n",
            "Epoch 6: Train Loss: 0.2957, Accuracy: 0.8648, F1: 0.8648, Val Loss: 0.6532, Accuracy: 0.7453, F1: 0.7453\n",
            "Epoch 7: Train Loss: 0.1981, Accuracy: 0.9284, F1: 0.9284, Val Loss: 0.6332, Accuracy: 0.7877, F1: 0.7877\n",
            "Model saved to ModelCheckpointsDebug/CRNNModel/epoch_6.pth\n",
            "Epoch 8: Train Loss: 0.1558, Accuracy: 0.9405, F1: 0.9405, Val Loss: 0.7508, Accuracy: 0.7642, F1: 0.7642\n",
            "Epoch 9: Train Loss: 0.0957, Accuracy: 0.9717, F1: 0.9717, Val Loss: 0.6460, Accuracy: 0.7406, F1: 0.7406\n",
            "Epoch 10: Train Loss: 0.0927, Accuracy: 0.9707, F1: 0.9707, Val Loss: 0.6669, Accuracy: 0.7500, F1: 0.7500\n",
            "Epoch 11: Train Loss: 0.0912, Accuracy: 0.9667, F1: 0.9667, Val Loss: 0.5610, Accuracy: 0.8255, F1: 0.8255\n",
            "Model saved to ModelCheckpointsDebug/CRNNModel/epoch_10.pth\n",
            "Epoch 12: Train Loss: 0.0537, Accuracy: 0.9849, F1: 0.9849, Val Loss: 0.5281, Accuracy: 0.8208, F1: 0.8208\n",
            "Model saved to ModelCheckpointsDebug/CRNNModel/epoch_11.pth\n",
            "Epoch 13: Train Loss: 0.0339, Accuracy: 0.9899, F1: 0.9899, Val Loss: 0.5264, Accuracy: 0.8491, F1: 0.8491\n",
            "Model saved to ModelCheckpointsDebug/CRNNModel/epoch_12.pth\n",
            "Epoch 14: Train Loss: 0.0446, Accuracy: 0.9869, F1: 0.9869, Val Loss: 0.7635, Accuracy: 0.7500, F1: 0.7500\n",
            "Epoch 15: Train Loss: 0.0360, Accuracy: 0.9919, F1: 0.9919, Val Loss: 0.8135, Accuracy: 0.7925, F1: 0.7925\n",
            "Epoch 16: Train Loss: 0.0557, Accuracy: 0.9818, F1: 0.9818, Val Loss: 1.4035, Accuracy: 0.6132, F1: 0.6132\n",
            "Epoch 17: Train Loss: 0.0336, Accuracy: 0.9939, F1: 0.9939, Val Loss: 0.8755, Accuracy: 0.7311, F1: 0.7311\n",
            "Epoch 18: Train Loss: 0.0358, Accuracy: 0.9899, F1: 0.9899, Val Loss: 0.7603, Accuracy: 0.7877, F1: 0.7877\n",
            "Training interrupted, saving current state...\n",
            "Model and training state saved to ModelCheckpointsDebug/CRNNModel/interrupted.pth\n",
            "{'model_name': 'CRNNModel', 'best_epoch': 12, 'best_val_accuracy': 0.8490566037735849, 'epochs_trained': 19, 'train_loss_history': [1.0191180968035, 0.7022263711491293, 0.47868585251563056, 0.37369585190838583, 0.35214307508120074, 0.2956511877061551, 0.19814798726875751, 0.1558364441800817, 0.09574510549634106, 0.09271647626351787, 0.0911643557179003, 0.05371297212648213, 0.033898270731827586, 0.044625393320204036, 0.03596426819801587, 0.05573476638686189, 0.033563350673280694, 0.03577634928884449], 'train_accuracy_history': [0.5105953582240161, 0.6579212916246215, 0.751765893037336, 0.8153380423814329, 0.8254288597376388, 0.8647830474268415, 0.9283551967709385, 0.9404641775983855, 0.9717457114026236, 0.970736629667003, 0.9667003027245207, 0.9848637739656912, 0.9899091826437941, 0.9868819374369324, 0.9919273461150353, 0.9818365287588294, 0.9939455095862765, 0.9899091826437941], 'train_f1score_history': [tensor(0.5106), tensor(0.6579), tensor(0.7518), tensor(0.8153), tensor(0.8254), tensor(0.8648), tensor(0.9284), tensor(0.9405), tensor(0.9717), tensor(0.9707), tensor(0.9667), tensor(0.9849), tensor(0.9899), tensor(0.9869), tensor(0.9919), tensor(0.9818), tensor(0.9939), tensor(0.9899)], 'val_loss_history': [1.5037123179590364, 0.7887296358228855, 1.0423692403238196, 0.6503040135644798, 0.8092887898981747, 0.6531934497333219, 0.6331555140968017, 0.7508405804527564, 0.6459630381926578, 0.6668560123732775, 0.5610139545463443, 0.5281076503232262, 0.526377727962478, 0.7634585411466139, 0.8134724922860668, 1.4034805026614845, 0.8754847008706249, 0.7602547841860507], 'val_accuracy_history': [0.09905660377358491, 0.7452830188679245, 0.5, 0.7264150943396226, 0.6273584905660378, 0.7452830188679245, 0.7877358490566038, 0.7641509433962265, 0.7405660377358491, 0.75, 0.8254716981132075, 0.8207547169811321, 0.8490566037735849, 0.75, 0.7924528301886793, 0.6132075471698113, 0.7311320754716981, 0.7877358490566038], 'val_f1score_history': [tensor(0.0991), tensor(0.7453), tensor(0.5000), tensor(0.7264), tensor(0.6274), tensor(0.7453), tensor(0.7877), tensor(0.7642), tensor(0.7406), tensor(0.7500), tensor(0.8255), tensor(0.8208), tensor(0.8491), tensor(0.7500), tensor(0.7925), tensor(0.6132), tensor(0.7311), tensor(0.7877)]}\n"
          ]
        }
      ],
      "source": [
        "model_checkpoint_path = 'ModelCheckpointsDebug'\n",
        "model_name = 'CRNNModel'\n",
        "\n",
        "crnn_model = CRNN()\n",
        "device = torch.device(\"cuda\" if torch.cuda.is_available() else \"cpu\")\n",
        "\n",
        "# For parameter search (one epoch with metrics return)\n",
        "performance_indicators2 = train_model(crnn_model,\n",
        "                                     train_loader,\n",
        "                                     val_loader,\n",
        "                                     device,\n",
        "                                     model_checkpoint_path,\n",
        "                                     model_name,\n",
        "                                     epochs=50,\n",
        "                                     last_epoch=-1,\n",
        "                                     load_pretrained=False)\n",
        "print(performance_indicators2)"
      ]
    },
    {
      "cell_type": "code",
      "execution_count": null,
      "metadata": {
        "id": "85-oNno0YhU6",
        "outputId": "51b7417b-ecce-4d13-aae3-adbf6800f4ee"
      },
      "outputs": [
        {
          "name": "stdout",
          "output_type": "stream",
          "text": [
            "Loading pretrained model from ModelCheckpointsDebug/CRNNModel/epoch_12.pth\n",
            "Model loaded successfully.\n",
            "Epoch 14: Train Loss: 0.0941, Accuracy: 0.9667, F1: 0.9667, Val Loss: 0.1007, Accuracy: 0.9623, F1: 0.9623\n",
            "Model saved to ModelCheckpointsDebug/CRNNModel/epoch_13.pth\n",
            "Epoch 15: Train Loss: 0.0402, Accuracy: 0.9879, F1: 0.9879, Val Loss: 0.1477, Accuracy: 0.9528, F1: 0.9528\n",
            "Epoch 16: Train Loss: 0.0194, Accuracy: 0.9960, F1: 0.9960, Val Loss: 0.1636, Accuracy: 0.9670, F1: 0.9670\n",
            "Epoch 17: Train Loss: 0.0455, Accuracy: 0.9828, F1: 0.9828, Val Loss: 0.2707, Accuracy: 0.9009, F1: 0.9009\n",
            "Epoch 18: Train Loss: 0.0442, Accuracy: 0.9889, F1: 0.9889, Val Loss: 0.0779, Accuracy: 0.9670, F1: 0.9670\n",
            "Model saved to ModelCheckpointsDebug/CRNNModel/epoch_17.pth\n",
            "Epoch 19: Train Loss: 0.0125, Accuracy: 0.9990, F1: 0.9990, Val Loss: 0.0692, Accuracy: 0.9764, F1: 0.9764\n",
            "Model saved to ModelCheckpointsDebug/CRNNModel/epoch_18.pth\n",
            "Epoch 20: Train Loss: 0.0395, Accuracy: 0.9828, F1: 0.9828, Val Loss: 0.1839, Accuracy: 0.9292, F1: 0.9292\n",
            "Training interrupted, saving current state...\n",
            "Model and training state saved to ModelCheckpointsDebug/CRNNModel/interrupted.pth\n",
            "{'model_name': 'CRNNModel', 'best_epoch': 18, 'best_val_accuracy': 0.9764150943396226, 'epochs_trained': 21, 'train_loss_history': [0.09413920506978919, 0.04020572406323613, 0.01937077967475657, 0.045475097348044405, 0.044214224513413475, 0.012497174950692257, 0.03948610351279153], 'train_accuracy_history': [0.9667003027245207, 0.987891019172553, 0.9959636730575177, 0.9828456104944501, 0.9889001009081736, 0.9989909182643795, 0.9828456104944501], 'train_f1score_history': [tensor(0.9667), tensor(0.9879), tensor(0.9960), tensor(0.9828), tensor(0.9889), tensor(0.9990), tensor(0.9828)], 'val_loss_history': [0.10072279030309972, 0.14768972740235972, 0.1635556502630418, 0.2706882246566238, 0.07789926123992048, 0.06916030538229949, 0.18391043577839639], 'val_accuracy_history': [0.9622641509433962, 0.9528301886792453, 0.9669811320754716, 0.9009433962264151, 0.9669811320754716, 0.9764150943396226, 0.9292452830188679], 'val_f1score_history': [tensor(0.9623), tensor(0.9528), tensor(0.9670), tensor(0.9009), tensor(0.9670), tensor(0.9764), tensor(0.9292)]}\n"
          ]
        }
      ],
      "source": [
        "model_checkpoint_path = 'ModelCheckpointsDebug'\n",
        "model_name = 'CRNNModel'\n",
        "# Plot CRNN Training Log"
      ]
    },
    {
      "cell_type": "code",
      "execution_count": null,
      "metadata": {
        "id": "asMMVKT0YhU6"
      },
      "outputs": [],
      "source": [
        "def plot(pathToJSON):\n",
        "    # Load the JSON data from file\n",
        "    with open(pathToJSON, 'r') as file:\n",
        "        data = json.load(file)\n",
        "\n",
        "    # Initialize lists to store the metric values for each epoch\n",
        "    epochs = list(data.keys())\n",
        "    train_loss = []\n",
        "    train_accuracy = []\n",
        "    train_f1 = []\n",
        "    val_loss = []\n",
        "    val_accuracy = []\n",
        "    val_f1 = []\n",
        "\n",
        "    # Extract data from JSON\n",
        "    for epoch in epochs:\n",
        "        train_loss.append(float(data[epoch]['train_loss']))\n",
        "        train_accuracy.append(float(data[epoch]['train_accuracy']))\n",
        "        train_f1.append(float(data[epoch]['train_f1']))\n",
        "        val_loss.append(float(data[epoch]['val_loss']))\n",
        "        val_accuracy.append(float(data[epoch]['val_accuracy']))\n",
        "        val_f1.append(float(data[epoch]['val_f1']))\n",
        "\n",
        "    # Plotting\n",
        "    plt.figure(figsize=(15, 5))\n",
        "\n",
        "    # Loss plot\n",
        "    plt.subplot(1, 3, 1)\n",
        "    plt.plot(epochs, train_loss, label='Train Loss')\n",
        "    plt.plot(epochs, val_loss, label='Validation Loss')\n",
        "    plt.title('Loss per Epoch')\n",
        "    plt.xlabel('Epoch')\n",
        "    plt.ylabel('Loss')\n",
        "    plt.legend()\n",
        "\n",
        "    # Accuracy plot\n",
        "    plt.subplot(1, 3, 2)\n",
        "    plt.plot(epochs, train_accuracy, label='Train Accuracy')\n",
        "    plt.plot(epochs, val_accuracy, label='Validation Accuracy')\n",
        "    plt.title('Accuracy per Epoch')\n",
        "    plt.xlabel('Epoch')\n",
        "    plt.ylabel('Accuracy')\n",
        "    plt.legend()\n",
        "\n",
        "    # F1 score plot\n",
        "    plt.subplot(1, 3, 3)\n",
        "    plt.plot(epochs, train_f1, label='Train F1 Score')\n",
        "    plt.plot(epochs, val_f1, label='Validation F1 Score')\n",
        "    plt.title('F1 Score per Epoch')\n",
        "    plt.xlabel('Epoch')\n",
        "    plt.ylabel('F1 Score')\n",
        "    plt.legend()\n",
        "\n",
        "    plt.tight_layout()\n",
        "    plt.show()"
      ]
    },
    {
      "cell_type": "code",
      "execution_count": null,
      "metadata": {
        "id": "SJ6EEz2FYhU6",
        "outputId": "2e635205-ed2b-4683-976e-b008202b1a88"
      },
      "outputs": [
        {
          "data": {
            "image/png": "[encoded data removed]",
            "text/plain": [
              "<Figure size 1500x500 with 3 Axes>"
            ]
          },
          "metadata": {},
          "output_type": "display_data"
        }
      ],
      "source": [
        "plot(\"./log/CRNN-train-log.json\")"
      ]
    },
    {
      "cell_type": "markdown",
      "metadata": {
        "id": "v9kZqNqkYhU6"
      },
      "source": [
        "# Evaluation Model Performance (Test)"
      ]
    },
    {
      "cell_type": "code",
      "execution_count": null,
      "metadata": {
        "id": "ex9k3jkiYhU6"
      },
      "outputs": [],
      "source": [
        "import os\n",
        "import torch\n",
        "from torch import nn\n",
        "from sklearn.metrics import confusion_matrix, f1_score\n",
        "import seaborn as sns\n",
        "import matplotlib.pyplot as plt\n",
        "import numpy as np  # Import numpy for calculations\n",
        "\n",
        "def validate(model, model_save_dir, modelName, last_epoch, val_loader, device, num_classes, adv=False):\n",
        "    model.to(device)\n",
        "    version = 'Adversarial' if adv else 'Standard'\n",
        "    model_save_path = os.path.join(f'{model_save_dir}/{modelName}', f'{\"adv\" if adv else \"\"}epoch_{last_epoch}.pth')\n",
        "\n",
        "    if os.path.isfile(model_save_path):\n",
        "        model.load_state_dict(torch.load(model_save_path, map_location=device))\n",
        "    else:\n",
        "        print(f\"No pretrained model found at {model_save_path}.\")\n",
        "        return\n",
        "\n",
        "    criterion = nn.CrossEntropyLoss()\n",
        "    model.eval()\n",
        "    val_loss, val_correct, val_total = 0, 0, 0\n",
        "    all_preds, all_labels = [], []\n",
        "\n",
        "    with torch.no_grad():\n",
        "        for images, labels in val_loader:\n",
        "            images, labels = images.to(device), labels.to(device)\n",
        "            outputs = model(images)\n",
        "            loss = criterion(outputs, labels)\n",
        "            val_loss += loss.item()\n",
        "            _, predicted = torch.max(outputs, 1)\n",
        "            val_total += labels.size(0)\n",
        "            val_correct += (predicted == labels).sum().item()\n",
        "            all_preds.extend(predicted.view(-1).cpu().numpy())\n",
        "            all_labels.extend(labels.view(-1).cpu().numpy())\n",
        "\n",
        "    # Compute the metrics\n",
        "    val_loss /= len(val_loader)\n",
        "    val_accuracy = val_correct / val_total\n",
        "    f1_macro = f1_score(all_labels, all_preds, average='macro')\n",
        "\n",
        "    # Print the results\n",
        "    print(f'{version} Model - Loss: {val_loss:.4f}, Accuracy: {val_accuracy:.4f}, F1 Macro: {f1_macro:.4f}')\n",
        "\n",
        "    # Calculate and normalize the confusion matrix\n",
        "    cm = confusion_matrix(all_labels, all_preds, labels=list(range(num_classes)))\n",
        "    cm_percentage = cm.astype('float') / cm.sum(axis=1)[:, np.newaxis]  # Normalize each row to sum to 1\n",
        "\n",
        "    print('Confusion Matrix:')\n",
        "    # print(cm_percentage)  # Display the percentage matrix\n",
        "\n",
        "    # Plot the confusion matrix using seaborn\n",
        "    plt.figure(figsize=(10, 7))\n",
        "    sns.heatmap(cm_percentage, annot=True, fmt=\".2%\", cmap='Blues', xticklabels=range(num_classes), yticklabels=range(num_classes))\n",
        "    plt.xlabel('Predicted Labels')\n",
        "    plt.ylabel('True Labels')\n",
        "    plt.title(f'Confusion Matrix for {version} Model')\n",
        "    plt.show()\n",
        "\n",
        "    return"
      ]
    },
    {
      "cell_type": "code",
      "execution_count": null,
      "metadata": {
        "id": "lQ07xAhrYeRM",
        "outputId": "caf2381f-f3bc-44c1-e503-b3c114c1d7c7"
      },
      "outputs": [
        {
          "name": "stdout",
          "output_type": "stream",
          "text": [
            "Val + Test Set Evaluation:\n",
            "Standard Model - Loss: 0.0573, Accuracy: 0.9836, F1 Macro: 0.9737\n",
            "Confusion Matrix:\n"
          ]
        },
        {
          "data": {
            "image/png": "[encoded data removed]",
            "text/plain": [
              "<Figure size 1000x700 with 2 Axes>"
            ]
          },
          "metadata": {},
          "output_type": "display_data"
        }
      ],
      "source": [
        "model_checkpoint_path = 'ModelCheckpointsDebug'\n",
        "model_name = 'CRNNModel'\n",
        "\n",
        "crnn_model = CRNN()\n",
        "device = torch.device(\"cuda\" if torch.cuda.is_available() else \"cpu\")\n",
        "\n",
        "# Move the model to the device\n",
        "crnn_model.to(device)\n",
        "\n",
        "print(\"Val + Test Set Evaluation:\")\n",
        "validate(crnn_model,model_checkpoint_path,model_name,18,combined_loader,device,4)"
      ]
    },
    {
      "cell_type": "markdown",
      "metadata": {
        "id": "4qttPzb4YhU6"
      },
      "source": [
        "# Calculate total model parameters"
      ]
    },
    {
      "cell_type": "code",
      "execution_count": null,
      "metadata": {
        "id": "kmXOgp6NYhU6",
        "outputId": "a89308f9-1449-4950-d65a-61269ed8e6e9"
      },
      "outputs": [
        {
          "name": "stdout",
          "output_type": "stream",
          "text": [
            "Total trainable parameters: 257628\n"
          ]
        }
      ],
      "source": [
        "model = CRNN()\n",
        "model.load_state_dict(torch.load('ModelCheckpoints/epoch_17.pth',map_location=torch.device('cpu')))\n",
        "trainable_params = sum(p.numel() for p in model.parameters() if p.requires_grad)\n",
        "print(f\"Total trainable parameters: {trainable_params}\")"
      ]
    }
  ],
  "metadata": {
    "accelerator": "GPU",
    "colab": {
      "gpuType": "T4",
      "provenance": []
    },
    "kernelspec": {
      "display_name": "Python 3.10.12 64-bit ('pytorch')",
      "language": "python",
      "name": "python3"
    },
    "language_info": {
      "codemirror_mode": {
        "name": "ipython",
        "version": 3
      },
      "file_extension": ".py",
      "mimetype": "text/x-python",
      "name": "python",
      "nbconvert_exporter": "python",
      "pygments_lexer": "ipython3",
      "version": "3.10.12"
    },
    "vscode": {
      "interpreter": {
        "hash": "b520574346c3a8cee84a775377775649dc3260b2c2160397c14ffe3df1aca728"
      }
    }
  },
  "nbformat": 4,
  "nbformat_minor": 0
}
